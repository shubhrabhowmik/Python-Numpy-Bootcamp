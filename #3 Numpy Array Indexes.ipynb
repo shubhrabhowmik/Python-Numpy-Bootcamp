{
 "cells": [
  {
   "cell_type": "markdown",
   "id": "08d45591",
   "metadata": {},
   "source": [
    "Array Indexes"
   ]
  },
  {
   "cell_type": "code",
   "execution_count": 2,
   "id": "1597e650",
   "metadata": {},
   "outputs": [],
   "source": [
    "import numpy as np"
   ]
  },
  {
   "cell_type": "code",
   "execution_count": 3,
   "id": "88fb0e30",
   "metadata": {},
   "outputs": [
    {
     "name": "stdout",
     "output_type": "stream",
     "text": [
      "[ 0  2  4  6  8 10 12 14 16 18 20 22 24 26 28 30 32 34 36 38 40 42 44 46\n",
      " 48 50 52 54 56 58 60 62 64 66 68 70 72 74 76 78 80 82 84 86 88 90 92 94\n",
      " 96 98]\n"
     ]
    }
   ],
   "source": [
    "arr = np.arange(0,100,2)\n",
    "print(arr)"
   ]
  },
  {
   "cell_type": "code",
   "execution_count": 4,
   "id": "4a577cf8",
   "metadata": {},
   "outputs": [
    {
     "name": "stdout",
     "output_type": "stream",
     "text": [
      "0\n",
      "4\n",
      "20\n"
     ]
    }
   ],
   "source": [
    "# Access Indexes of Array\n",
    "\n",
    "print(arr[0])\n",
    "print(arr[2])\n",
    "print(arr[10])"
   ]
  },
  {
   "cell_type": "code",
   "execution_count": 5,
   "id": "9b6acbab",
   "metadata": {},
   "outputs": [
    {
     "name": "stdout",
     "output_type": "stream",
     "text": [
      "[0 2 4 6]\n",
      "[ 0  4  8 12]\n"
     ]
    }
   ],
   "source": [
    "# Silicing of Array - arr[start:stop:step]\n",
    "\n",
    "print(arr[0:4:1])\n",
    "print(arr[0:8:2])"
   ]
  },
  {
   "cell_type": "code",
   "execution_count": 6,
   "id": "26bf1a52",
   "metadata": {},
   "outputs": [
    {
     "name": "stdout",
     "output_type": "stream",
     "text": [
      "[ 0  0  0  0  0 10 12 14 16 18 20 22 24 26 28 30 32 34 36 38 40 42 44 46\n",
      " 48 50 52 54 56 58 60 62 64 66 68 70 72 74 76 78 80 82 84 86 88 90 92 94\n",
      " 96 98]\n"
     ]
    }
   ],
   "source": [
    "# Updating Array using Slices\n",
    "\n",
    "arr[0:5] = 0\n",
    "print(arr)"
   ]
  },
  {
   "cell_type": "code",
   "execution_count": 8,
   "id": "28416c96",
   "metadata": {},
   "outputs": [
    {
     "name": "stdout",
     "output_type": "stream",
     "text": [
      "[ 0 10 12 14 16 18]\n",
      "[1 1 1 1 1 1]\n"
     ]
    }
   ],
   "source": [
    "# Memory allocation - View vs Copy\n",
    "\n",
    "arr2 = arr[4:10]\n",
    "print(arr2)\n",
    "\n",
    "arr2[:]=1\n",
    "print(arr2)"
   ]
  },
  {
   "cell_type": "code",
   "execution_count": 9,
   "id": "7aa26643",
   "metadata": {},
   "outputs": [
    {
     "name": "stdout",
     "output_type": "stream",
     "text": [
      "[ 0  0  0  0  1  1  1  1  1  1 20 22 24 26 28 30 32 34 36 38 40 42 44 46\n",
      " 48 50 52 54 56 58 60 62 64 66 68 70 72 74 76 78 80 82 84 86 88 90 92 94\n",
      " 96 98]\n"
     ]
    }
   ],
   "source": [
    "# copy() function - creating new memory for array\n",
    "\n",
    "arr3 = arr.copy()\n",
    "print(arr3)"
   ]
  },
  {
   "cell_type": "code",
   "execution_count": null,
   "id": "f5d12cd0",
   "metadata": {},
   "outputs": [],
   "source": []
  }
 ],
 "metadata": {
  "kernelspec": {
   "display_name": "Python 3",
   "language": "python",
   "name": "python3"
  },
  "language_info": {
   "codemirror_mode": {
    "name": "ipython",
    "version": 3
   },
   "file_extension": ".py",
   "mimetype": "text/x-python",
   "name": "python",
   "nbconvert_exporter": "python",
   "pygments_lexer": "ipython3",
   "version": "3.8.8"
  }
 },
 "nbformat": 4,
 "nbformat_minor": 5
}
