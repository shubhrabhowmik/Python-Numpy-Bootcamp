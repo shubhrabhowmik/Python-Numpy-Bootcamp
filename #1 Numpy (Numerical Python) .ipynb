{
 "cells": [
  {
   "cell_type": "markdown",
   "id": "c8248134",
   "metadata": {},
   "source": [
    "Array Creation and Initialization Function"
   ]
  },
  {
   "cell_type": "code",
   "execution_count": 14,
   "id": "d1685ef4",
   "metadata": {},
   "outputs": [],
   "source": [
    "import numpy as np  #mathemetical functions"
   ]
  },
  {
   "cell_type": "code",
   "execution_count": 15,
   "id": "c4f9f55c",
   "metadata": {},
   "outputs": [
    {
     "name": "stdout",
     "output_type": "stream",
     "text": [
      "[101 102 103]\n"
     ]
    }
   ],
   "source": [
    "# Creating 1D array\n",
    "\n",
    "mylist1 = [101,102,103]\n",
    "myArray = np.array(mylist1)\n",
    "\n",
    "print(myArray)"
   ]
  },
  {
   "cell_type": "code",
   "execution_count": 16,
   "id": "6116efb1",
   "metadata": {},
   "outputs": [
    {
     "name": "stdout",
     "output_type": "stream",
     "text": [
      "[[101 102 103]\n",
      " [101 102 103]]\n"
     ]
    }
   ],
   "source": [
    "# Creating 2D array\n",
    "\n",
    "mylist2 = [101,102,103]\n",
    "myArray2D = np.array([mylist1,mylist2])\n",
    "\n",
    "print(myArray2D)"
   ]
  },
  {
   "cell_type": "code",
   "execution_count": 17,
   "id": "72a09fed",
   "metadata": {},
   "outputs": [
    {
     "name": "stdout",
     "output_type": "stream",
     "text": [
      "(3,)\n",
      "(2, 3)\n"
     ]
    }
   ],
   "source": [
    "# Finding dimensions of the Array - Shape() function\n",
    "\n",
    "print(myArray.shape)\n",
    "print(myArray2D.shape)"
   ]
  },
  {
   "cell_type": "code",
   "execution_count": 18,
   "id": "ba8d1910",
   "metadata": {},
   "outputs": [
    {
     "name": "stdout",
     "output_type": "stream",
     "text": [
      "int32\n",
      "int32\n"
     ]
    }
   ],
   "source": [
    "# Finding the datatype of Array - dtype() function\n",
    "\n",
    "print(myArray.dtype)\n",
    "print(myArray2D.dtype)"
   ]
  },
  {
   "cell_type": "code",
   "execution_count": 19,
   "id": "1853b2b3",
   "metadata": {},
   "outputs": [
    {
     "name": "stdout",
     "output_type": "stream",
     "text": [
      "[0. 0. 0. 0. 0.]\n",
      "[[0. 0.]\n",
      " [0. 0.]\n",
      " [0. 0.]]\n"
     ]
    }
   ],
   "source": [
    "# Array Creation and initialization function - Zeros\n",
    "\n",
    "zero_array = np.zeros(5)\n",
    "print(zero_array)\n",
    "\n",
    "zero_array2D = np.zeros([3,2])\n",
    "print(zero_array2D)"
   ]
  },
  {
   "cell_type": "code",
   "execution_count": 20,
   "id": "748dd9e8",
   "metadata": {},
   "outputs": [
    {
     "name": "stdout",
     "output_type": "stream",
     "text": [
      "[1. 1. 1. 1. 1.]\n",
      "[[1. 1.]\n",
      " [1. 1.]\n",
      " [1. 1.]]\n"
     ]
    }
   ],
   "source": [
    "# Array Creation and initialization function - Ones\n",
    "\n",
    "ones_array = np.ones(5)\n",
    "print(ones_array)\n",
    "\n",
    "ones_array2D = np.ones([3,2])\n",
    "print(ones_array2D)"
   ]
  },
  {
   "cell_type": "code",
   "execution_count": 21,
   "id": "85fb2a32",
   "metadata": {},
   "outputs": [
    {
     "name": "stdout",
     "output_type": "stream",
     "text": [
      "[1. 1. 1. 1. 1.]\n",
      "[[1. 1.]\n",
      " [1. 1.]\n",
      " [1. 1.]]\n"
     ]
    }
   ],
   "source": [
    "# Array Creation and Initialization Function - empty (any junk value will be printed)\n",
    "\n",
    "empty_array = np.empty(5)\n",
    "print(empty_array)\n",
    "\n",
    "empty_array2D = np.empty([3,2])\n",
    "print(empty_array2D)"
   ]
  },
  {
   "cell_type": "code",
   "execution_count": 22,
   "id": "a2d43d56",
   "metadata": {},
   "outputs": [
    {
     "name": "stdout",
     "output_type": "stream",
     "text": [
      "[[1. 0. 0.]\n",
      " [0. 1. 0.]\n",
      " [0. 0. 1.]]\n"
     ]
    }
   ],
   "source": [
    "# Array creation and Initialization - eye (Digonal elements are same)\n",
    "\n",
    "Identity_Array = np.eye(3)\n",
    "print(Identity_Array)"
   ]
  },
  {
   "cell_type": "code",
   "execution_count": 23,
   "id": "0703e77d",
   "metadata": {},
   "outputs": [
    {
     "name": "stdout",
     "output_type": "stream",
     "text": [
      "[ 0  2  4  6  8 10 12 14 16 18 20 22 24 26 28 30 32 34 36 38 40 42 44 46\n",
      " 48]\n"
     ]
    }
   ],
   "source": [
    "# Arange() Function - arange(start_value, end_value, difference)\n",
    "\n",
    "AP_Array = np.arange(0,50,2)\n",
    "print(AP_Array)"
   ]
  },
  {
   "cell_type": "code",
   "execution_count": null,
   "id": "c3476f71",
   "metadata": {},
   "outputs": [],
   "source": []
  }
 ],
 "metadata": {
  "kernelspec": {
   "display_name": "Python 3",
   "language": "python",
   "name": "python3"
  },
  "language_info": {
   "codemirror_mode": {
    "name": "ipython",
    "version": 3
   },
   "file_extension": ".py",
   "mimetype": "text/x-python",
   "name": "python",
   "nbconvert_exporter": "python",
   "pygments_lexer": "ipython3",
   "version": "3.8.8"
  }
 },
 "nbformat": 4,
 "nbformat_minor": 5
}
