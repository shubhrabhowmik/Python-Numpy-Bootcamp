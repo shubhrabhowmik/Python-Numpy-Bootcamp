{
 "cells": [
  {
   "cell_type": "markdown",
   "id": "e2c966fe",
   "metadata": {},
   "source": [
    "Premium Array Operations"
   ]
  },
  {
   "cell_type": "code",
   "execution_count": 1,
   "id": "f7118b62",
   "metadata": {},
   "outputs": [],
   "source": [
    "import numpy as np"
   ]
  },
  {
   "cell_type": "code",
   "execution_count": 2,
   "id": "9afa509c",
   "metadata": {},
   "outputs": [
    {
     "name": "stdout",
     "output_type": "stream",
     "text": [
      "[ 0  1  2  3  4  5  6  7  8  9 10 11 12 13 14]\n"
     ]
    }
   ],
   "source": [
    "a = np.arange(15)\n",
    "print(a)"
   ]
  },
  {
   "cell_type": "code",
   "execution_count": 3,
   "id": "3737da24",
   "metadata": {},
   "outputs": [
    {
     "name": "stdout",
     "output_type": "stream",
     "text": [
      "[5 6 7 8 9]\n"
     ]
    }
   ],
   "source": [
    "b = np.arange(5,10)\n",
    "print(b)"
   ]
  },
  {
   "cell_type": "code",
   "execution_count": 5,
   "id": "93a9bed4",
   "metadata": {},
   "outputs": [
    {
     "name": "stdout",
     "output_type": "stream",
     "text": [
      "[0 2 4 6 8]\n"
     ]
    }
   ],
   "source": [
    "c = np.arange(0,10,2)\n",
    "print(c)"
   ]
  },
  {
   "cell_type": "code",
   "execution_count": 7,
   "id": "896779ff",
   "metadata": {},
   "outputs": [
    {
     "name": "stdout",
     "output_type": "stream",
     "text": [
      "[0.         1.41421356 2.         2.44948974 2.82842712]\n"
     ]
    }
   ],
   "source": [
    "# Function of Numpy Arrays - sqrt()\n",
    "\n",
    "d = np.sqrt(c)\n",
    "print(d)"
   ]
  },
  {
   "cell_type": "code",
   "execution_count": 8,
   "id": "d0651eaa",
   "metadata": {},
   "outputs": [
    {
     "name": "stdout",
     "output_type": "stream",
     "text": [
      "[1.00000000e+00 7.38905610e+00 5.45981500e+01 4.03428793e+02\n",
      " 2.98095799e+03]\n"
     ]
    }
   ],
   "source": [
    "# Function of Numpy Array - exp()\n",
    "\n",
    "e = np.exp(c)\n",
    "print(e)"
   ]
  },
  {
   "cell_type": "code",
   "execution_count": 12,
   "id": "bacdb641",
   "metadata": {},
   "outputs": [
    {
     "name": "stdout",
     "output_type": "stream",
     "text": [
      "[-0.1401333  -0.30971705  1.04984724 -1.67781714  0.41043521]\n"
     ]
    }
   ],
   "source": [
    "# Function of Numpy Array - random()\n",
    "\n",
    "f = np.random.randn(5)\n",
    "print(f)"
   ]
  },
  {
   "cell_type": "code",
   "execution_count": 11,
   "id": "2f33d843",
   "metadata": {},
   "outputs": [
    {
     "name": "stdout",
     "output_type": "stream",
     "text": [
      "[[-2.20488806 -0.59225504 -0.87386357  0.10321556 -0.97493428]\n",
      " [ 0.88290804  0.98699517 -1.11324386 -0.37246282 -0.74884576]\n",
      " [ 0.84404672 -0.46611738 -0.68148602 -0.86794365 -0.39313789]\n",
      " [ 1.70009095  1.58509557  0.75786242  0.42654458  0.6899493 ]\n",
      " [ 0.55203519  0.42465209  0.36948992  0.89060797  0.02371827]]\n"
     ]
    }
   ],
   "source": [
    "g = np.random.randn(5,5)\n",
    "print(g)"
   ]
  },
  {
   "cell_type": "code",
   "execution_count": 17,
   "id": "1ce40a11",
   "metadata": {},
   "outputs": [
    {
     "name": "stdout",
     "output_type": "stream",
     "text": [
      "[ 5  8 11 14 17]\n"
     ]
    }
   ],
   "source": [
    "# Function of Numpy Array - add()\n",
    "\n",
    "h = np.add(b,c)\n",
    "print(h)"
   ]
  },
  {
   "cell_type": "code",
   "execution_count": 22,
   "id": "4f534564",
   "metadata": {},
   "outputs": [
    {
     "name": "stdout",
     "output_type": "stream",
     "text": [
      "[6 7 8 4 5]\n",
      "[1 5 3 3 1]\n"
     ]
    }
   ],
   "source": [
    "# Function of Numpy Array - \n",
    "# maximum() - finds the maximum among the 2 elements in the array\n",
    "# minimum() - finds the minimum among the 2 elements in the array\n",
    "A = np.array([1,5,3,4,5])\n",
    "B = np.array([6,7,8,3,1])\n",
    "\n",
    "H = np.maximum(A,B)\n",
    "print(H)\n",
    "\n",
    "G = np.minimum(A,B)\n",
    "print(G)"
   ]
  }
 ],
 "metadata": {
  "kernelspec": {
   "display_name": "Python 3",
   "language": "python",
   "name": "python3"
  },
  "language_info": {
   "codemirror_mode": {
    "name": "ipython",
    "version": 3
   },
   "file_extension": ".py",
   "mimetype": "text/x-python",
   "name": "python",
   "nbconvert_exporter": "python",
   "pygments_lexer": "ipython3",
   "version": "3.8.8"
  }
 },
 "nbformat": 4,
 "nbformat_minor": 5
}
