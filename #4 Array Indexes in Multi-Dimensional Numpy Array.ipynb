{
 "cells": [
  {
   "cell_type": "markdown",
   "id": "0deb67b2",
   "metadata": {},
   "source": [
    "Array Indexes in Multidimensional Array"
   ]
  },
  {
   "cell_type": "code",
   "execution_count": 1,
   "id": "179c9188",
   "metadata": {},
   "outputs": [],
   "source": [
    "import numpy as np"
   ]
  },
  {
   "cell_type": "code",
   "execution_count": 2,
   "id": "bbdeff3e",
   "metadata": {},
   "outputs": [
    {
     "name": "stdout",
     "output_type": "stream",
     "text": [
      "[[1 2 3]\n",
      " [4 5 6]\n",
      " [7 8 9]]\n"
     ]
    }
   ],
   "source": [
    "arr2d = np.array([[1,2,3],[4,5,6],[7,8,9]])\n",
    "print(arr2d)"
   ]
  },
  {
   "cell_type": "code",
   "execution_count": 3,
   "id": "2c9f63e5",
   "metadata": {},
   "outputs": [
    {
     "name": "stdout",
     "output_type": "stream",
     "text": [
      "[1 2 3]\n",
      "[7 8 9]\n"
     ]
    }
   ],
   "source": [
    "# Accessing rows\n",
    "\n",
    "print(arr2d[0])\n",
    "print(arr2d[2])"
   ]
  },
  {
   "cell_type": "code",
   "execution_count": 5,
   "id": "06d1784a",
   "metadata": {},
   "outputs": [
    {
     "name": "stdout",
     "output_type": "stream",
     "text": [
      "1\n",
      "9\n"
     ]
    }
   ],
   "source": [
    "# Accessing elements of array\n",
    "\n",
    "print(arr2d[0][0])\n",
    "print(arr2d[2][2])"
   ]
  },
  {
   "cell_type": "code",
   "execution_count": 7,
   "id": "ee6654d5",
   "metadata": {},
   "outputs": [
    {
     "name": "stdout",
     "output_type": "stream",
     "text": [
      "[[1 2]]\n"
     ]
    }
   ],
   "source": [
    "# Slicing in 2D array - arr[start_row:stop_row, start_col:stop_col]\n",
    "\n",
    "slice1 = arr2d[0:1,0:2]\n",
    "print(slice1)"
   ]
  },
  {
   "cell_type": "code",
   "execution_count": 11,
   "id": "cce754c5",
   "metadata": {},
   "outputs": [
    {
     "name": "stdout",
     "output_type": "stream",
     "text": [
      "[[1]\n",
      " [4]\n",
      " [7]]\n",
      "[[1]\n",
      " [4]\n",
      " [7]]\n"
     ]
    }
   ],
   "source": [
    "slice2 = arr2d[0:3,0:1]\n",
    "print(slice2)\n",
    "\n",
    "slice3 = arr2d[:3,:1]\n",
    "print(slice3)"
   ]
  },
  {
   "cell_type": "code",
   "execution_count": 14,
   "id": "90fc2526",
   "metadata": {},
   "outputs": [
    {
     "name": "stdout",
     "output_type": "stream",
     "text": [
      "(3, 3)\n",
      "3\n"
     ]
    }
   ],
   "source": [
    "# Using loops to change indexs\n",
    "\n",
    "arr_len = arr2d.shape\n",
    "print(arr_len)\n",
    "\n",
    "nrows = arr_len[0]\n",
    "print(nrows)"
   ]
  },
  {
   "cell_type": "code",
   "execution_count": 15,
   "id": "3c206942",
   "metadata": {},
   "outputs": [
    {
     "name": "stdout",
     "output_type": "stream",
     "text": [
      "[[1 2 3]\n",
      " [1 5 6]\n",
      " [1 8 9]]\n"
     ]
    }
   ],
   "source": [
    "for i in range(nrows):\n",
    "    arr2d[i][0] = 1\n",
    "    \n",
    "print(arr2d)"
   ]
  },
  {
   "cell_type": "code",
   "execution_count": null,
   "id": "3de27757",
   "metadata": {},
   "outputs": [],
   "source": [
    "# Accessing rows using list of index values\n",
    "\n"
   ]
  }
 ],
 "metadata": {
  "kernelspec": {
   "display_name": "Python 3",
   "language": "python",
   "name": "python3"
  },
  "language_info": {
   "codemirror_mode": {
    "name": "ipython",
    "version": 3
   },
   "file_extension": ".py",
   "mimetype": "text/x-python",
   "name": "python",
   "nbconvert_exporter": "python",
   "pygments_lexer": "ipython3",
   "version": "3.8.8"
  }
 },
 "nbformat": 4,
 "nbformat_minor": 5
}
