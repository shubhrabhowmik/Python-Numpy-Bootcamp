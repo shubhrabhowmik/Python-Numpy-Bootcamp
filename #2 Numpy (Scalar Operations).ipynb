{
 "cells": [
  {
   "cell_type": "markdown",
   "id": "55f9c815",
   "metadata": {},
   "source": [
    "Scalar Operations"
   ]
  },
  {
   "cell_type": "code",
   "execution_count": 2,
   "id": "a615cde5",
   "metadata": {},
   "outputs": [],
   "source": [
    "import numpy as np"
   ]
  },
  {
   "cell_type": "code",
   "execution_count": 7,
   "id": "c560148d",
   "metadata": {},
   "outputs": [
    {
     "name": "stdout",
     "output_type": "stream",
     "text": [
      "[[1 2 3]\n",
      " [4 5 6]]\n",
      "[[ 1  4  9]\n",
      " [16 25 36]]\n"
     ]
    }
   ],
   "source": [
    "# Scalar Array Multiplication - using * oprator\n",
    "\n",
    "arr1 = np.array([[1,2,3],[4,5,6]])\n",
    "print(arr1)\n",
    "\n",
    "arr2 = arr1 * arr1\n",
    "print(arr2)"
   ]
  },
  {
   "cell_type": "code",
   "execution_count": 6,
   "id": "4284e6f6",
   "metadata": {},
   "outputs": [
    {
     "name": "stdout",
     "output_type": "stream",
     "text": [
      "[[    1     4    27]\n",
      " [  256  3125 46656]]\n"
     ]
    }
   ],
   "source": [
    "# Exponential Operation - using ** oprator\n",
    "\n",
    "arr3 = arr1 ** arr1\n",
    "print(arr3)"
   ]
  },
  {
   "cell_type": "code",
   "execution_count": 9,
   "id": "cc894110",
   "metadata": {},
   "outputs": [
    {
     "name": "stdout",
     "output_type": "stream",
     "text": [
      "[[ 0  2  6]\n",
      " [12 20 30]]\n"
     ]
    }
   ],
   "source": [
    "# # Scalar Subtraction of Array elements\n",
    "\n",
    "arr4 = arr2-arr1\n",
    "print(arr4)"
   ]
  },
  {
   "cell_type": "code",
   "execution_count": 10,
   "id": "e90fccc0",
   "metadata": {},
   "outputs": [
    {
     "name": "stdout",
     "output_type": "stream",
     "text": [
      "[[1.         0.5        0.33333333]\n",
      " [0.25       0.2        0.16666667]]\n"
     ]
    }
   ],
   "source": [
    "# Scalar Division of Array elements\n",
    "\n",
    "arr5 = 1/arr1\n",
    "print(arr5)\n"
   ]
  },
  {
   "cell_type": "code",
   "execution_count": null,
   "id": "ccc49b48",
   "metadata": {},
   "outputs": [],
   "source": []
  }
 ],
 "metadata": {
  "kernelspec": {
   "display_name": "Python 3",
   "language": "python",
   "name": "python3"
  },
  "language_info": {
   "codemirror_mode": {
    "name": "ipython",
    "version": 3
   },
   "file_extension": ".py",
   "mimetype": "text/x-python",
   "name": "python",
   "nbconvert_exporter": "python",
   "pygments_lexer": "ipython3",
   "version": "3.8.8"
  }
 },
 "nbformat": 4,
 "nbformat_minor": 5
}
